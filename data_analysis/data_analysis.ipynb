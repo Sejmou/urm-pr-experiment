{
 "cells": [
  {
   "attachments": {},
   "cell_type": "markdown",
   "metadata": {},
   "source": [
    "# Analyzing the collected experiment data"
   ]
  },
  {
   "cell_type": "code",
   "execution_count": 1,
   "metadata": {},
   "outputs": [],
   "source": [
    "import pandas as pd\n",
    "import os"
   ]
  },
  {
   "attachments": {},
   "cell_type": "markdown",
   "metadata": {},
   "source": [
    "## Download data from Google Cloud Storage"
   ]
  },
  {
   "cell_type": "code",
   "execution_count": 2,
   "metadata": {},
   "outputs": [
    {
     "name": "stdout",
     "output_type": "stream",
     "text": [
      "Copying gs://urm-pr-experiment.appspot.com/experiment_results/music_1_stroop_31762cb9-3f06-46f8-a6aa-0cb7e725cba9_1673029476671.csv...\n",
      "Copying gs://urm-pr-experiment.appspot.com/experiment_results/music_1_stroop_7f0450b7-99f7-47e9-8895-9011a537396a_1673024034386.csv...\n",
      "Copying gs://urm-pr-experiment.appspot.com/experiment_results/music_1_stroop_8184eb4a-6f2a-435f-99e0-de643d884b97_1673016760844.csv...\n",
      "Copying gs://urm-pr-experiment.appspot.com/experiment_results/music_1_stroop_88b5c856-49c7-4113-873d-671c29bff218_1673092484960.csv...\n",
      "Copying gs://urm-pr-experiment.appspot.com/experiment_results/music_1_stroop_9547b8d4-5448-4b85-b0da-2c8461c00bcb_1673014857531.csv...\n",
      "Copying gs://urm-pr-experiment.appspot.com/experiment_results/music_1_stroop_a4948d9f-faa2-415f-a376-4c3dea9296ce_1673083909712.csv...\n",
      "Copying gs://urm-pr-experiment.appspot.com/experiment_results/music_2_digit_span_8184eb4a-6f2a-435f-99e0-de643d884b97_1673017027433.csv...\n",
      "Copying gs://urm-pr-experiment.appspot.com/experiment_results/music_1_stroop_a700e9ac-d53c-4dcd-8ea4-eb6bf58ad454_1673018927021.csv...\n",
      "Copying gs://urm-pr-experiment.appspot.com/experiment_results/music_1_stroop_b8143791-ab78-4c4b-bc14-ab3f16549bb5_1672997616638.csv...\n",
      "Copying gs://urm-pr-experiment.appspot.com/experiment_results/music_2_digit_span_31762cb9-3f06-46f8-a6aa-0cb7e725cba9_1673029701436.csv...\n",
      "Copying gs://urm-pr-experiment.appspot.com/experiment_results/music_2_digit_span_88b5c856-49c7-4113-873d-671c29bff218_1673092725123.csv...\n",
      "Copying gs://urm-pr-experiment.appspot.com/experiment_results/music_2_digit_span_9547b8d4-5448-4b85-b0da-2c8461c00bcb_1673015063300.csv...\n",
      "Copying gs://urm-pr-experiment.appspot.com/experiment_results/music_2_digit_span_a4948d9f-faa2-415f-a376-4c3dea9296ce_1673084209659.csv...\n",
      "Copying gs://urm-pr-experiment.appspot.com/experiment_results/music_3_symmetry_span_31762cb9-3f06-46f8-a6aa-0cb7e725cba9_1673029961619.csv...\n",
      "Copying gs://urm-pr-experiment.appspot.com/experiment_results/music_2_digit_span_a700e9ac-d53c-4dcd-8ea4-eb6bf58ad454_1673019217059.csv...\n",
      "Copying gs://urm-pr-experiment.appspot.com/experiment_results/music_2_digit_span_b8143791-ab78-4c4b-bc14-ab3f16549bb5_1672997850313.csv...\n",
      "Copying gs://urm-pr-experiment.appspot.com/experiment_results/music_2_digit_span_7f0450b7-99f7-47e9-8895-9011a537396a_1673024409957.csv...\n",
      "Copying gs://urm-pr-experiment.appspot.com/experiment_results/music_3_symmetry_span_7f0450b7-99f7-47e9-8895-9011a537396a_1673025027695.csv...\n",
      "Copying gs://urm-pr-experiment.appspot.com/experiment_results/music_3_symmetry_span_9547b8d4-5448-4b85-b0da-2c8461c00bcb_1673015343909.csv...\n",
      "Copying gs://urm-pr-experiment.appspot.com/experiment_results/music_3_symmetry_span_88b5c856-49c7-4113-873d-671c29bff218_1673093066529.csv...\n",
      "Copying gs://urm-pr-experiment.appspot.com/experiment_results/music_3_symmetry_span_a4948d9f-faa2-415f-a376-4c3dea9296ce_1673084498476.csv...\n",
      "Copying gs://urm-pr-experiment.appspot.com/experiment_results/music_3_symmetry_span_8184eb4a-6f2a-435f-99e0-de643d884b97_1673017250357.csv...\n",
      "Copying gs://urm-pr-experiment.appspot.com/experiment_results/silence_1_stroop_b7f6b744-ff66-42a3-b892-4ba6777a970a_1673039848936.csv...\n",
      "Copying gs://urm-pr-experiment.appspot.com/experiment_results/music_3_symmetry_span_a700e9ac-d53c-4dcd-8ea4-eb6bf58ad454_1673019639254.csv...\n",
      "Copying gs://urm-pr-experiment.appspot.com/experiment_results/music_3_symmetry_span_b8143791-ab78-4c4b-bc14-ab3f16549bb5_1672998125398.csv...\n",
      "Copying gs://urm-pr-experiment.appspot.com/experiment_results/silence_1_stroop_62c8661e-b8e2-48a1-b1a3-4221427237a6_1673023552095.csv...\n",
      "Copying gs://urm-pr-experiment.appspot.com/experiment_results/silence_1_stroop_7c732653-87e7-4c4f-8fe7-9fa40975315d_1673085550294.csv...\n",
      "Copying gs://urm-pr-experiment.appspot.com/experiment_results/silence_1_stroop_3cceca25-8b8b-49ad-b24d-03ed68601439_1673017107358.csv...\n",
      "Copying gs://urm-pr-experiment.appspot.com/experiment_results/silence_1_stroop_97b70c25-77c5-47b7-8a2c-eb59bd2842cc_1672998537301.csv...\n",
      "Copying gs://urm-pr-experiment.appspot.com/experiment_results/silence_1_stroop_a0e19014-0ebd-4783-8032-cea5677e4a11_1673093412140.csv...\n",
      "Copying gs://urm-pr-experiment.appspot.com/experiment_results/silence_2_digit_span_7c732653-87e7-4c4f-8fe7-9fa40975315d_1673085810979.csv...\n",
      "Copying gs://urm-pr-experiment.appspot.com/experiment_results/silence_2_digit_span_a0e19014-0ebd-4783-8032-cea5677e4a11_1673093673601.csv...\n",
      "Copying gs://urm-pr-experiment.appspot.com/experiment_results/silence_1_stroop_21f08148-6cc6-4223-8364-24224a1f1945_1673014781709.csv...\n",
      "Copying gs://urm-pr-experiment.appspot.com/experiment_results/silence_2_digit_span_62c8661e-b8e2-48a1-b1a3-4221427237a6_1673023818633.csv...\n",
      "Copying gs://urm-pr-experiment.appspot.com/experiment_results/silence_2_digit_span_21f08148-6cc6-4223-8364-24224a1f1945_1673015074076.csv...\n",
      "Copying gs://urm-pr-experiment.appspot.com/experiment_results/silence_2_digit_span_3cceca25-8b8b-49ad-b24d-03ed68601439_1673017402829.csv...\n",
      "Copying gs://urm-pr-experiment.appspot.com/experiment_results/silence_3_symmetry_span_3cceca25-8b8b-49ad-b24d-03ed68601439_1673017841334.csv...\n",
      "Copying gs://urm-pr-experiment.appspot.com/experiment_results/silence_3_symmetry_span_b7f6b744-ff66-42a3-b892-4ba6777a970a_1673040432814.csv...\n",
      "Copying gs://urm-pr-experiment.appspot.com/experiment_results/silence_2_digit_span_97b70c25-77c5-47b7-8a2c-eb59bd2842cc_1672998768762.csv...\n",
      "Copying gs://urm-pr-experiment.appspot.com/experiment_results/silence_1_stroop_f7cee892-7665-4c02-8b0e-005e0c255378_1673008655416.csv...\n",
      "Copying gs://urm-pr-experiment.appspot.com/experiment_results/silence_2_digit_span_b7f6b744-ff66-42a3-b892-4ba6777a970a_1673040054974.csv...\n",
      "Copying gs://urm-pr-experiment.appspot.com/experiment_results/silence_3_symmetry_span_7c732653-87e7-4c4f-8fe7-9fa40975315d_1673086181234.csv...\n",
      "Copying gs://urm-pr-experiment.appspot.com/experiment_results/silence_3_symmetry_span_21f08148-6cc6-4223-8364-24224a1f1945_1673015638409.csv...\n",
      "Copying gs://urm-pr-experiment.appspot.com/experiment_results/silence_3_symmetry_span_a0e19014-0ebd-4783-8032-cea5677e4a11_1673094044919.csv...\n",
      "Copying gs://urm-pr-experiment.appspot.com/experiment_results/silence_3_symmetry_span_97b70c25-77c5-47b7-8a2c-eb59bd2842cc_1672999211701.csv...\n",
      "Copying gs://urm-pr-experiment.appspot.com/experiment_results/silence_2_digit_span_f7cee892-7665-4c02-8b0e-005e0c255378_1673008973284.csv...\n",
      "Copying gs://urm-pr-experiment.appspot.com/experiment_results/silence_3_symmetry_span_62c8661e-b8e2-48a1-b1a3-4221427237a6_1673024303430.csv...\n",
      "Copying gs://urm-pr-experiment.appspot.com/experiment_results/silence_3_symmetry_span_f7cee892-7665-4c02-8b0e-005e0c255378_1673009339290.csv...\n",
      "- [48/48 files][640.2 KiB/640.2 KiB] 100% Done                                  \n",
      "Operation completed over 48 objects/640.2 KiB.                                   \n"
     ]
    }
   ],
   "source": [
    "!gsutil -m cp -R gs://urm-pr-experiment.appspot.com/experiment_results/* ./data"
   ]
  },
  {
   "cell_type": "code",
   "execution_count": 3,
   "metadata": {},
   "outputs": [
    {
     "data": {
      "text/plain": [
       "['music_1_stroop_31762cb9-3f06-46f8-a6aa-0cb7e725cba9_1673029476671.csv',\n",
       " 'music_1_stroop_7f0450b7-99f7-47e9-8895-9011a537396a_1673024034386.csv',\n",
       " 'music_1_stroop_8184eb4a-6f2a-435f-99e0-de643d884b97_1673016760844.csv',\n",
       " 'music_1_stroop_88b5c856-49c7-4113-873d-671c29bff218_1673092484960.csv',\n",
       " 'music_1_stroop_9547b8d4-5448-4b85-b0da-2c8461c00bcb_1673014857531.csv',\n",
       " 'music_1_stroop_a4948d9f-faa2-415f-a376-4c3dea9296ce_1673083909712.csv',\n",
       " 'music_1_stroop_a700e9ac-d53c-4dcd-8ea4-eb6bf58ad454_1673018927021.csv',\n",
       " 'music_1_stroop_b8143791-ab78-4c4b-bc14-ab3f16549bb5_1672997616638.csv',\n",
       " 'music_2_digit_span_31762cb9-3f06-46f8-a6aa-0cb7e725cba9_1673029701436.csv',\n",
       " 'music_2_digit_span_7f0450b7-99f7-47e9-8895-9011a537396a_1673024409957.csv',\n",
       " 'music_2_digit_span_8184eb4a-6f2a-435f-99e0-de643d884b97_1673017027433.csv',\n",
       " 'music_2_digit_span_88b5c856-49c7-4113-873d-671c29bff218_1673092725123.csv',\n",
       " 'music_2_digit_span_9547b8d4-5448-4b85-b0da-2c8461c00bcb_1673015063300.csv',\n",
       " 'music_2_digit_span_a4948d9f-faa2-415f-a376-4c3dea9296ce_1673084209659.csv',\n",
       " 'music_2_digit_span_a700e9ac-d53c-4dcd-8ea4-eb6bf58ad454_1673019217059.csv',\n",
       " 'music_2_digit_span_b8143791-ab78-4c4b-bc14-ab3f16549bb5_1672997850313.csv',\n",
       " 'music_3_symmetry_span_31762cb9-3f06-46f8-a6aa-0cb7e725cba9_1673029961619.csv',\n",
       " 'music_3_symmetry_span_7f0450b7-99f7-47e9-8895-9011a537396a_1673025027695.csv',\n",
       " 'music_3_symmetry_span_8184eb4a-6f2a-435f-99e0-de643d884b97_1673017250357.csv',\n",
       " 'music_3_symmetry_span_88b5c856-49c7-4113-873d-671c29bff218_1673093066529.csv',\n",
       " 'music_3_symmetry_span_9547b8d4-5448-4b85-b0da-2c8461c00bcb_1673015343909.csv',\n",
       " 'music_3_symmetry_span_a4948d9f-faa2-415f-a376-4c3dea9296ce_1673084498476.csv',\n",
       " 'music_3_symmetry_span_a700e9ac-d53c-4dcd-8ea4-eb6bf58ad454_1673019639254.csv',\n",
       " 'music_3_symmetry_span_b8143791-ab78-4c4b-bc14-ab3f16549bb5_1672998125398.csv',\n",
       " 'silence_1_stroop_21f08148-6cc6-4223-8364-24224a1f1945_1673014781709.csv',\n",
       " 'silence_1_stroop_3cceca25-8b8b-49ad-b24d-03ed68601439_1673017107358.csv',\n",
       " 'silence_1_stroop_62c8661e-b8e2-48a1-b1a3-4221427237a6_1673023552095.csv',\n",
       " 'silence_1_stroop_7c732653-87e7-4c4f-8fe7-9fa40975315d_1673085550294.csv',\n",
       " 'silence_1_stroop_97b70c25-77c5-47b7-8a2c-eb59bd2842cc_1672998537301.csv',\n",
       " 'silence_1_stroop_a0e19014-0ebd-4783-8032-cea5677e4a11_1673093412140.csv',\n",
       " 'silence_1_stroop_b7f6b744-ff66-42a3-b892-4ba6777a970a_1673039848936.csv',\n",
       " 'silence_1_stroop_f7cee892-7665-4c02-8b0e-005e0c255378_1673008655416.csv',\n",
       " 'silence_2_digit_span_21f08148-6cc6-4223-8364-24224a1f1945_1673015074076.csv',\n",
       " 'silence_2_digit_span_3cceca25-8b8b-49ad-b24d-03ed68601439_1673017402829.csv',\n",
       " 'silence_2_digit_span_62c8661e-b8e2-48a1-b1a3-4221427237a6_1673023818633.csv',\n",
       " 'silence_2_digit_span_7c732653-87e7-4c4f-8fe7-9fa40975315d_1673085810979.csv',\n",
       " 'silence_2_digit_span_97b70c25-77c5-47b7-8a2c-eb59bd2842cc_1672998768762.csv',\n",
       " 'silence_2_digit_span_a0e19014-0ebd-4783-8032-cea5677e4a11_1673093673601.csv',\n",
       " 'silence_2_digit_span_b7f6b744-ff66-42a3-b892-4ba6777a970a_1673040054974.csv',\n",
       " 'silence_2_digit_span_f7cee892-7665-4c02-8b0e-005e0c255378_1673008973284.csv',\n",
       " 'silence_3_symmetry_span_21f08148-6cc6-4223-8364-24224a1f1945_1673015638409.csv',\n",
       " 'silence_3_symmetry_span_3cceca25-8b8b-49ad-b24d-03ed68601439_1673017841334.csv',\n",
       " 'silence_3_symmetry_span_62c8661e-b8e2-48a1-b1a3-4221427237a6_1673024303430.csv',\n",
       " 'silence_3_symmetry_span_7c732653-87e7-4c4f-8fe7-9fa40975315d_1673086181234.csv',\n",
       " 'silence_3_symmetry_span_97b70c25-77c5-47b7-8a2c-eb59bd2842cc_1672999211701.csv',\n",
       " 'silence_3_symmetry_span_a0e19014-0ebd-4783-8032-cea5677e4a11_1673094044919.csv',\n",
       " 'silence_3_symmetry_span_b7f6b744-ff66-42a3-b892-4ba6777a970a_1673040432814.csv',\n",
       " 'silence_3_symmetry_span_f7cee892-7665-4c02-8b0e-005e0c255378_1673009339290.csv']"
      ]
     },
     "execution_count": 3,
     "metadata": {},
     "output_type": "execute_result"
    }
   ],
   "source": [
    "data_dir = \"data\"\n",
    "valid_tasks = [\"1_stroop\", \"2_digit_span\", \"3_symmetry_span\"]\n",
    "filenames = [\n",
    "    f\n",
    "    for f in os.listdir(data_dir)\n",
    "    if f.endswith(\".csv\")\n",
    "    and any(task in f for task in valid_tasks)\n",
    "    and (f.startswith(\"music\") or f.startswith(\"silence\"))\n",
    "]\n",
    "filenames.sort()\n",
    "filenames\n"
   ]
  },
  {
   "cell_type": "code",
   "execution_count": 4,
   "metadata": {},
   "outputs": [],
   "source": [
    "def get_task(filename):\n",
    "    for task in valid_tasks:\n",
    "        if task in filename:\n",
    "            return task\n",
    "    raise ValueError(f\"Task not found in filename {filename}\")"
   ]
  },
  {
   "cell_type": "code",
   "execution_count": 5,
   "metadata": {},
   "outputs": [
    {
     "data": {
      "text/plain": [
       "[{'group': 'music',\n",
       "  'task': 'stroop',\n",
       "  'participant_id': '31762cb9-3f06-46f8-a6aa-0cb7e725cba9',\n",
       "  'timestamp': '1673029476671',\n",
       "  'filepath': 'data/music_1_stroop_31762cb9-3f06-46f8-a6aa-0cb7e725cba9_1673029476671.csv'},\n",
       " {'group': 'music',\n",
       "  'task': 'stroop',\n",
       "  'participant_id': '7f0450b7-99f7-47e9-8895-9011a537396a',\n",
       "  'timestamp': '1673024034386',\n",
       "  'filepath': 'data/music_1_stroop_7f0450b7-99f7-47e9-8895-9011a537396a_1673024034386.csv'},\n",
       " {'group': 'music',\n",
       "  'task': 'stroop',\n",
       "  'participant_id': '8184eb4a-6f2a-435f-99e0-de643d884b97',\n",
       "  'timestamp': '1673016760844',\n",
       "  'filepath': 'data/music_1_stroop_8184eb4a-6f2a-435f-99e0-de643d884b97_1673016760844.csv'}]"
      ]
     },
     "execution_count": 5,
     "metadata": {},
     "output_type": "execute_result"
    }
   ],
   "source": [
    "def extract_data_from_filename(filename):\n",
    "    task = get_task(filename)\n",
    "    filename_without_task = filename.replace(f'_{task}', '')\n",
    "    data = filename_without_task.split('.')[0].split('_')\n",
    "    return {\n",
    "      'group': data[0],\n",
    "      'task': '_'.join(task.split('_')[1:]),\n",
    "      'participant_id': data[1],\n",
    "      'timestamp': data[2],\n",
    "      'filepath': f'{data_dir}/{filename}'\n",
    "    }\n",
    "\n",
    "data = [extract_data_from_filename(f) for f in filenames]\n",
    "data[:3]"
   ]
  },
  {
   "cell_type": "code",
   "execution_count": 6,
   "metadata": {},
   "outputs": [],
   "source": [
    "from collections import defaultdict\n",
    "\n",
    "def group_by_participant_id(data):\n",
    "    result = defaultdict(list)\n",
    "    for d in data:\n",
    "        if d['participant_id'] not in result:\n",
    "            result[d['participant_id']] = []\n",
    "        result[d['participant_id']].append(d)\n",
    "    return result\n",
    "\n",
    "data_by_participant_id = group_by_participant_id(data)"
   ]
  },
  {
   "cell_type": "code",
   "execution_count": 7,
   "metadata": {},
   "outputs": [
    {
     "data": {
      "text/plain": [
       "['stroop', 'digit_span', 'symmetry_span']"
      ]
     },
     "execution_count": 7,
     "metadata": {},
     "output_type": "execute_result"
    }
   ],
   "source": [
    "valid_task_names = ['_'.join(t.split('_')[1:]) for t in valid_tasks]\n",
    "valid_task_names"
   ]
  },
  {
   "cell_type": "code",
   "execution_count": 8,
   "metadata": {},
   "outputs": [],
   "source": [
    "# quick test for function below -> should output three missing tasks\n",
    "data_by_participant_id['1'] = []"
   ]
  },
  {
   "cell_type": "code",
   "execution_count": 9,
   "metadata": {},
   "outputs": [
    {
     "name": "stdout",
     "output_type": "stream",
     "text": [
      "Participant 1 did not complete task stroop\n",
      "Participant 1 did not complete task digit_span\n",
      "Participant 1 did not complete task symmetry_span\n"
     ]
    }
   ],
   "source": [
    "def verify_completeness(data_by_participant_id):\n",
    "    data_missing = False\n",
    "    for participant_id, participant_data in data_by_participant_id.items():\n",
    "        completed_tasks = set(d[\"task\"] for d in participant_data)\n",
    "        for task in valid_task_names:\n",
    "            if task not in completed_tasks:\n",
    "                print(f\"Participant {participant_id} did not complete task {task}\")\n",
    "                data_missing = True\n",
    "    if not data_missing:\n",
    "        print(\"All data is complete\")\n",
    "\n",
    "\n",
    "verify_completeness(data_by_participant_id)\n"
   ]
  },
  {
   "cell_type": "code",
   "execution_count": 10,
   "metadata": {},
   "outputs": [
    {
     "name": "stdout",
     "output_type": "stream",
     "text": [
      "All data is complete\n"
     ]
    }
   ],
   "source": [
    "del data_by_participant_id['1']\n",
    "verify_completeness(data_by_participant_id)"
   ]
  },
  {
   "cell_type": "code",
   "execution_count": 11,
   "metadata": {},
   "outputs": [],
   "source": [
    "def get_task_result_dfs(data_by_participant_id):\n",
    "    results_per_task = defaultdict(list)\n",
    "    for participant_id, participant_data in data_by_participant_id.items():\n",
    "        for d in participant_data:\n",
    "            results_df = pd.read_csv(d[\"filepath\"])\n",
    "            results_df[\"participant_id\"] = participant_id\n",
    "            results_df[\"group\"] = d[\"group\"]\n",
    "            results_per_task[d[\"task\"]].append(results_df)\n",
    "    task_result_dfs = {}\n",
    "    for task in results_per_task:\n",
    "        task_result_dfs[task] = pd.concat(results_per_task[task])\n",
    "    return task_result_dfs\n",
    "\n",
    "\n",
    "task_result_dfs = get_task_result_dfs(data_by_participant_id)"
   ]
  },
  {
   "attachments": {},
   "cell_type": "markdown",
   "metadata": {},
   "source": [
    "## Analyze Stroop task results"
   ]
  },
  {
   "cell_type": "code",
   "execution_count": 12,
   "metadata": {},
   "outputs": [
    {
     "data": {
      "text/html": [
       "<div>\n",
       "<style scoped>\n",
       "    .dataframe tbody tr th:only-of-type {\n",
       "        vertical-align: middle;\n",
       "    }\n",
       "\n",
       "    .dataframe tbody tr th {\n",
       "        vertical-align: top;\n",
       "    }\n",
       "\n",
       "    .dataframe thead th {\n",
       "        text-align: right;\n",
       "    }\n",
       "</style>\n",
       "<table border=\"1\" class=\"dataframe\">\n",
       "  <thead>\n",
       "    <tr style=\"text-align: right;\">\n",
       "      <th></th>\n",
       "      <th>rt</th>\n",
       "      <th>stimulus</th>\n",
       "      <th>key_press</th>\n",
       "      <th>Congruency</th>\n",
       "      <th>letter</th>\n",
       "      <th>type</th>\n",
       "      <th>trial_type</th>\n",
       "      <th>trial_index</th>\n",
       "      <th>time_elapsed</th>\n",
       "      <th>internal_node_id</th>\n",
       "      <th>correct</th>\n",
       "      <th>participant_id</th>\n",
       "      <th>group</th>\n",
       "    </tr>\n",
       "  </thead>\n",
       "  <tbody>\n",
       "    <tr>\n",
       "      <th>0</th>\n",
       "      <td>1146.0</td>\n",
       "      <td>&lt;table border=\"0\" width=\"600\"&gt;&lt;tr height=\"300\"...</td>\n",
       "      <td>78</td>\n",
       "      <td>Incon</td>\n",
       "      <td>n</td>\n",
       "      <td>test trial</td>\n",
       "      <td>html-keyboard-response</td>\n",
       "      <td>53</td>\n",
       "      <td>81007</td>\n",
       "      <td>0.0-6.0-1.0</td>\n",
       "      <td>True</td>\n",
       "      <td>31762cb9-3f06-46f8-a6aa-0cb7e725cba9</td>\n",
       "      <td>music</td>\n",
       "    </tr>\n",
       "    <tr>\n",
       "      <th>1</th>\n",
       "      <td>631.0</td>\n",
       "      <td>&lt;table border=\"0\" width=\"600\"&gt;&lt;tr height=\"300\"...</td>\n",
       "      <td>78</td>\n",
       "      <td>Incon</td>\n",
       "      <td>n</td>\n",
       "      <td>test trial</td>\n",
       "      <td>html-keyboard-response</td>\n",
       "      <td>55</td>\n",
       "      <td>82652</td>\n",
       "      <td>0.0-6.0-1.1</td>\n",
       "      <td>True</td>\n",
       "      <td>31762cb9-3f06-46f8-a6aa-0cb7e725cba9</td>\n",
       "      <td>music</td>\n",
       "    </tr>\n",
       "    <tr>\n",
       "      <th>2</th>\n",
       "      <td>661.0</td>\n",
       "      <td>&lt;table border=\"0\" width=\"600\"&gt;&lt;tr height=\"300\"...</td>\n",
       "      <td>78</td>\n",
       "      <td>Con</td>\n",
       "      <td>n</td>\n",
       "      <td>test trial</td>\n",
       "      <td>html-keyboard-response</td>\n",
       "      <td>57</td>\n",
       "      <td>83821</td>\n",
       "      <td>0.0-6.0-1.2</td>\n",
       "      <td>True</td>\n",
       "      <td>31762cb9-3f06-46f8-a6aa-0cb7e725cba9</td>\n",
       "      <td>music</td>\n",
       "    </tr>\n",
       "    <tr>\n",
       "      <th>3</th>\n",
       "      <td>783.0</td>\n",
       "      <td>&lt;table border=\"0\" width=\"600\"&gt;&lt;tr height=\"300\"...</td>\n",
       "      <td>66</td>\n",
       "      <td>Incon</td>\n",
       "      <td>b</td>\n",
       "      <td>test trial</td>\n",
       "      <td>html-keyboard-response</td>\n",
       "      <td>59</td>\n",
       "      <td>85117</td>\n",
       "      <td>0.0-6.0-1.3</td>\n",
       "      <td>True</td>\n",
       "      <td>31762cb9-3f06-46f8-a6aa-0cb7e725cba9</td>\n",
       "      <td>music</td>\n",
       "    </tr>\n",
       "    <tr>\n",
       "      <th>4</th>\n",
       "      <td>725.0</td>\n",
       "      <td>&lt;table border=\"0\" width=\"600\"&gt;&lt;tr height=\"300\"...</td>\n",
       "      <td>66</td>\n",
       "      <td>Incon</td>\n",
       "      <td>b</td>\n",
       "      <td>test trial</td>\n",
       "      <td>html-keyboard-response</td>\n",
       "      <td>61</td>\n",
       "      <td>86605</td>\n",
       "      <td>0.0-6.0-1.4</td>\n",
       "      <td>True</td>\n",
       "      <td>31762cb9-3f06-46f8-a6aa-0cb7e725cba9</td>\n",
       "      <td>music</td>\n",
       "    </tr>\n",
       "  </tbody>\n",
       "</table>\n",
       "</div>"
      ],
      "text/plain": [
       "       rt                                           stimulus  key_press  \\\n",
       "0  1146.0  <table border=\"0\" width=\"600\"><tr height=\"300\"...         78   \n",
       "1   631.0  <table border=\"0\" width=\"600\"><tr height=\"300\"...         78   \n",
       "2   661.0  <table border=\"0\" width=\"600\"><tr height=\"300\"...         78   \n",
       "3   783.0  <table border=\"0\" width=\"600\"><tr height=\"300\"...         66   \n",
       "4   725.0  <table border=\"0\" width=\"600\"><tr height=\"300\"...         66   \n",
       "\n",
       "  Congruency letter        type              trial_type  trial_index  \\\n",
       "0      Incon      n  test trial  html-keyboard-response           53   \n",
       "1      Incon      n  test trial  html-keyboard-response           55   \n",
       "2        Con      n  test trial  html-keyboard-response           57   \n",
       "3      Incon      b  test trial  html-keyboard-response           59   \n",
       "4      Incon      b  test trial  html-keyboard-response           61   \n",
       "\n",
       "   time_elapsed internal_node_id  correct  \\\n",
       "0         81007      0.0-6.0-1.0     True   \n",
       "1         82652      0.0-6.0-1.1     True   \n",
       "2         83821      0.0-6.0-1.2     True   \n",
       "3         85117      0.0-6.0-1.3     True   \n",
       "4         86605      0.0-6.0-1.4     True   \n",
       "\n",
       "                         participant_id  group  \n",
       "0  31762cb9-3f06-46f8-a6aa-0cb7e725cba9  music  \n",
       "1  31762cb9-3f06-46f8-a6aa-0cb7e725cba9  music  \n",
       "2  31762cb9-3f06-46f8-a6aa-0cb7e725cba9  music  \n",
       "3  31762cb9-3f06-46f8-a6aa-0cb7e725cba9  music  \n",
       "4  31762cb9-3f06-46f8-a6aa-0cb7e725cba9  music  "
      ]
     },
     "execution_count": 12,
     "metadata": {},
     "output_type": "execute_result"
    }
   ],
   "source": [
    "stroop_results = task_result_dfs[\"stroop\"].copy()\n",
    "stroop_results.head()"
   ]
  },
  {
   "cell_type": "code",
   "execution_count": 13,
   "metadata": {},
   "outputs": [
    {
     "data": {
      "text/plain": [
       "test trial    1280\n",
       "Name: type, dtype: int64"
      ]
     },
     "execution_count": 13,
     "metadata": {},
     "output_type": "execute_result"
    }
   ],
   "source": [
    "stroop_results.type.value_counts()"
   ]
  },
  {
   "cell_type": "code",
   "execution_count": 14,
   "metadata": {},
   "outputs": [
    {
     "data": {
      "text/plain": [
       "html-keyboard-response    1280\n",
       "Name: trial_type, dtype: int64"
      ]
     },
     "execution_count": 14,
     "metadata": {},
     "output_type": "execute_result"
    }
   ],
   "source": [
    "stroop_results.trial_type.value_counts()"
   ]
  },
  {
   "attachments": {},
   "cell_type": "markdown",
   "metadata": {},
   "source": [
    "It's safe to remove the type and trial_type information. The internal_node_id column is also irrelevant."
   ]
  },
  {
   "cell_type": "code",
   "execution_count": 15,
   "metadata": {},
   "outputs": [],
   "source": [
    "stroop_results = stroop_results.drop(columns=[\"type\", \"trial_type\", \"internal_node_id\"])\n"
   ]
  },
  {
   "attachments": {},
   "cell_type": "markdown",
   "metadata": {},
   "source": [
    "### Making sense of stimulus and letter columns"
   ]
  },
  {
   "cell_type": "code",
   "execution_count": 16,
   "metadata": {},
   "outputs": [
    {
     "data": {
      "text/plain": [
       "[0, 255, 0]      320\n",
       "[255, 255, 0]    320\n",
       "[0, 0, 255]      320\n",
       "[255, 0, 0]      320\n",
       "Name: stimulus, dtype: int64"
      ]
     },
     "execution_count": 16,
     "metadata": {},
     "output_type": "execute_result"
    }
   ],
   "source": [
    "def extract_rgb(stimulus):\n",
    "    return [\n",
    "        int(color_str)\n",
    "        for color_str in stimulus.split(\"rgb(\")[1].split(\")\")[0].split(\",\")\n",
    "    ]\n",
    "\n",
    "stroop_results.stimulus.apply(extract_rgb).value_counts()"
   ]
  },
  {
   "cell_type": "code",
   "execution_count": 17,
   "metadata": {},
   "outputs": [
    {
     "data": {
      "text/plain": [
       "green     320\n",
       "yellow    320\n",
       "blue      320\n",
       "red       320\n",
       "Name: stimulus, dtype: int64"
      ]
     },
     "execution_count": 17,
     "metadata": {},
     "output_type": "execute_result"
    }
   ],
   "source": [
    "def get_color(rgb_vals):\n",
    "    if rgb_vals[0] == 255 and rgb_vals[1] == 0 and rgb_vals[2] == 0:\n",
    "        return \"red\"\n",
    "    elif rgb_vals[0] == 255 and rgb_vals[1] == 255 and rgb_vals[2] == 0:\n",
    "        return \"yellow\"\n",
    "    elif rgb_vals[0] == 0 and rgb_vals[1] == 255 and rgb_vals[2] == 0:\n",
    "        return \"green\"\n",
    "    elif rgb_vals[0] == 0 and rgb_vals[1] == 0 and rgb_vals[2] == 255:\n",
    "        return \"blue\"\n",
    "    else:\n",
    "        return \"unknown\"\n",
    "\n",
    "stroop_results.stimulus.apply(extract_rgb).apply(get_color).value_counts()"
   ]
  },
  {
   "cell_type": "code",
   "execution_count": 18,
   "metadata": {},
   "outputs": [
    {
     "data": {
      "text/plain": [
       "green     320\n",
       "yellow    320\n",
       "blue      320\n",
       "red       320\n",
       "Name: letter, dtype: int64"
      ]
     },
     "execution_count": 18,
     "metadata": {},
     "output_type": "execute_result"
    }
   ],
   "source": [
    "def letter_to_color(key):\n",
    "    if key == \"v\":\n",
    "        return \"red\"\n",
    "    elif key == \"b\":\n",
    "        return \"yellow\"\n",
    "    elif key == \"n\":\n",
    "        return \"green\"\n",
    "    elif key == \"m\":\n",
    "        return \"blue\"\n",
    "    else:\n",
    "        return \"unknown\"\n",
    "        \n",
    "stroop_results.letter.apply(letter_to_color).value_counts()"
   ]
  },
  {
   "attachments": {},
   "cell_type": "markdown",
   "metadata": {},
   "source": [
    "The key column contains the JavaScript keycodes that were pressed by the users (for a demo check [this](https://www.toptal.com/developers/keycode]) out)."
   ]
  },
  {
   "cell_type": "code",
   "execution_count": 19,
   "metadata": {},
   "outputs": [
    {
     "data": {
      "text/plain": [
       "yellow    322\n",
       "red       321\n",
       "blue      319\n",
       "green     318\n",
       "Name: key_press, dtype: int64"
      ]
     },
     "execution_count": 19,
     "metadata": {},
     "output_type": "execute_result"
    }
   ],
   "source": [
    "def key_to_color(key):\n",
    "    if key == 86:\n",
    "        return \"red\"\n",
    "    elif key == 66:\n",
    "        return \"yellow\"\n",
    "    elif key == 78:\n",
    "        return \"green\"\n",
    "    elif key == 77:\n",
    "        return \"blue\"\n",
    "    else:\n",
    "        return \"unknown\"\n",
    "\n",
    "stroop_results.key_press.apply(key_to_color).value_counts()"
   ]
  },
  {
   "cell_type": "code",
   "execution_count": 21,
   "metadata": {},
   "outputs": [
    {
     "data": {
      "text/html": [
       "<div>\n",
       "<style scoped>\n",
       "    .dataframe tbody tr th:only-of-type {\n",
       "        vertical-align: middle;\n",
       "    }\n",
       "\n",
       "    .dataframe tbody tr th {\n",
       "        vertical-align: top;\n",
       "    }\n",
       "\n",
       "    .dataframe thead th {\n",
       "        text-align: right;\n",
       "    }\n",
       "</style>\n",
       "<table border=\"1\" class=\"dataframe\">\n",
       "  <thead>\n",
       "    <tr style=\"text-align: right;\">\n",
       "      <th></th>\n",
       "      <th>rt</th>\n",
       "      <th>key_press</th>\n",
       "      <th>Congruency</th>\n",
       "      <th>trial_index</th>\n",
       "      <th>time_elapsed</th>\n",
       "      <th>correct</th>\n",
       "      <th>participant_id</th>\n",
       "      <th>group</th>\n",
       "      <th>true_color</th>\n",
       "      <th>response</th>\n",
       "    </tr>\n",
       "  </thead>\n",
       "  <tbody>\n",
       "    <tr>\n",
       "      <th>0</th>\n",
       "      <td>1146.0</td>\n",
       "      <td>78</td>\n",
       "      <td>Incon</td>\n",
       "      <td>53</td>\n",
       "      <td>81007</td>\n",
       "      <td>True</td>\n",
       "      <td>31762cb9-3f06-46f8-a6aa-0cb7e725cba9</td>\n",
       "      <td>music</td>\n",
       "      <td>green</td>\n",
       "      <td>green</td>\n",
       "    </tr>\n",
       "    <tr>\n",
       "      <th>1</th>\n",
       "      <td>631.0</td>\n",
       "      <td>78</td>\n",
       "      <td>Incon</td>\n",
       "      <td>55</td>\n",
       "      <td>82652</td>\n",
       "      <td>True</td>\n",
       "      <td>31762cb9-3f06-46f8-a6aa-0cb7e725cba9</td>\n",
       "      <td>music</td>\n",
       "      <td>green</td>\n",
       "      <td>green</td>\n",
       "    </tr>\n",
       "    <tr>\n",
       "      <th>2</th>\n",
       "      <td>661.0</td>\n",
       "      <td>78</td>\n",
       "      <td>Con</td>\n",
       "      <td>57</td>\n",
       "      <td>83821</td>\n",
       "      <td>True</td>\n",
       "      <td>31762cb9-3f06-46f8-a6aa-0cb7e725cba9</td>\n",
       "      <td>music</td>\n",
       "      <td>green</td>\n",
       "      <td>green</td>\n",
       "    </tr>\n",
       "    <tr>\n",
       "      <th>3</th>\n",
       "      <td>783.0</td>\n",
       "      <td>66</td>\n",
       "      <td>Incon</td>\n",
       "      <td>59</td>\n",
       "      <td>85117</td>\n",
       "      <td>True</td>\n",
       "      <td>31762cb9-3f06-46f8-a6aa-0cb7e725cba9</td>\n",
       "      <td>music</td>\n",
       "      <td>yellow</td>\n",
       "      <td>yellow</td>\n",
       "    </tr>\n",
       "    <tr>\n",
       "      <th>4</th>\n",
       "      <td>725.0</td>\n",
       "      <td>66</td>\n",
       "      <td>Incon</td>\n",
       "      <td>61</td>\n",
       "      <td>86605</td>\n",
       "      <td>True</td>\n",
       "      <td>31762cb9-3f06-46f8-a6aa-0cb7e725cba9</td>\n",
       "      <td>music</td>\n",
       "      <td>yellow</td>\n",
       "      <td>yellow</td>\n",
       "    </tr>\n",
       "    <tr>\n",
       "      <th>...</th>\n",
       "      <td>...</td>\n",
       "      <td>...</td>\n",
       "      <td>...</td>\n",
       "      <td>...</td>\n",
       "      <td>...</td>\n",
       "      <td>...</td>\n",
       "      <td>...</td>\n",
       "      <td>...</td>\n",
       "      <td>...</td>\n",
       "      <td>...</td>\n",
       "    </tr>\n",
       "    <tr>\n",
       "      <th>75</th>\n",
       "      <td>938.0</td>\n",
       "      <td>66</td>\n",
       "      <td>Con</td>\n",
       "      <td>203</td>\n",
       "      <td>249473</td>\n",
       "      <td>True</td>\n",
       "      <td>f7cee892-7665-4c02-8b0e-005e0c255378</td>\n",
       "      <td>silence</td>\n",
       "      <td>yellow</td>\n",
       "      <td>yellow</td>\n",
       "    </tr>\n",
       "    <tr>\n",
       "      <th>76</th>\n",
       "      <td>651.0</td>\n",
       "      <td>78</td>\n",
       "      <td>Incon</td>\n",
       "      <td>205</td>\n",
       "      <td>250379</td>\n",
       "      <td>True</td>\n",
       "      <td>f7cee892-7665-4c02-8b0e-005e0c255378</td>\n",
       "      <td>silence</td>\n",
       "      <td>green</td>\n",
       "      <td>green</td>\n",
       "    </tr>\n",
       "    <tr>\n",
       "      <th>77</th>\n",
       "      <td>549.0</td>\n",
       "      <td>77</td>\n",
       "      <td>Con</td>\n",
       "      <td>207</td>\n",
       "      <td>252434</td>\n",
       "      <td>True</td>\n",
       "      <td>f7cee892-7665-4c02-8b0e-005e0c255378</td>\n",
       "      <td>silence</td>\n",
       "      <td>blue</td>\n",
       "      <td>blue</td>\n",
       "    </tr>\n",
       "    <tr>\n",
       "      <th>78</th>\n",
       "      <td>525.0</td>\n",
       "      <td>86</td>\n",
       "      <td>Con</td>\n",
       "      <td>209</td>\n",
       "      <td>254715</td>\n",
       "      <td>True</td>\n",
       "      <td>f7cee892-7665-4c02-8b0e-005e0c255378</td>\n",
       "      <td>silence</td>\n",
       "      <td>red</td>\n",
       "      <td>red</td>\n",
       "    </tr>\n",
       "    <tr>\n",
       "      <th>79</th>\n",
       "      <td>553.0</td>\n",
       "      <td>78</td>\n",
       "      <td>Incon</td>\n",
       "      <td>211</td>\n",
       "      <td>255772</td>\n",
       "      <td>True</td>\n",
       "      <td>f7cee892-7665-4c02-8b0e-005e0c255378</td>\n",
       "      <td>silence</td>\n",
       "      <td>green</td>\n",
       "      <td>green</td>\n",
       "    </tr>\n",
       "  </tbody>\n",
       "</table>\n",
       "<p>1280 rows × 10 columns</p>\n",
       "</div>"
      ],
      "text/plain": [
       "        rt  key_press Congruency  trial_index  time_elapsed  correct  \\\n",
       "0   1146.0         78      Incon           53         81007     True   \n",
       "1    631.0         78      Incon           55         82652     True   \n",
       "2    661.0         78        Con           57         83821     True   \n",
       "3    783.0         66      Incon           59         85117     True   \n",
       "4    725.0         66      Incon           61         86605     True   \n",
       "..     ...        ...        ...          ...           ...      ...   \n",
       "75   938.0         66        Con          203        249473     True   \n",
       "76   651.0         78      Incon          205        250379     True   \n",
       "77   549.0         77        Con          207        252434     True   \n",
       "78   525.0         86        Con          209        254715     True   \n",
       "79   553.0         78      Incon          211        255772     True   \n",
       "\n",
       "                          participant_id    group true_color response  \n",
       "0   31762cb9-3f06-46f8-a6aa-0cb7e725cba9    music      green    green  \n",
       "1   31762cb9-3f06-46f8-a6aa-0cb7e725cba9    music      green    green  \n",
       "2   31762cb9-3f06-46f8-a6aa-0cb7e725cba9    music      green    green  \n",
       "3   31762cb9-3f06-46f8-a6aa-0cb7e725cba9    music     yellow   yellow  \n",
       "4   31762cb9-3f06-46f8-a6aa-0cb7e725cba9    music     yellow   yellow  \n",
       "..                                   ...      ...        ...      ...  \n",
       "75  f7cee892-7665-4c02-8b0e-005e0c255378  silence     yellow   yellow  \n",
       "76  f7cee892-7665-4c02-8b0e-005e0c255378  silence      green    green  \n",
       "77  f7cee892-7665-4c02-8b0e-005e0c255378  silence       blue     blue  \n",
       "78  f7cee892-7665-4c02-8b0e-005e0c255378  silence        red      red  \n",
       "79  f7cee892-7665-4c02-8b0e-005e0c255378  silence      green    green  \n",
       "\n",
       "[1280 rows x 10 columns]"
      ]
     },
     "execution_count": 21,
     "metadata": {},
     "output_type": "execute_result"
    }
   ],
   "source": [
    "def extract_true_and_response(row):\n",
    "    rgb_vals = extract_rgb(row.stimulus)\n",
    "    true_color = get_color(rgb_vals)\n",
    "    key = row.key_press\n",
    "    response = key_to_color(key)\n",
    "    return pd.Series([true_color, response])\n",
    "\n",
    "\n",
    "stroop_results[[\"true_color\", \"response\"]] = stroop_results.apply(\n",
    "    extract_true_and_response, axis=1, result_type=\"expand\"\n",
    ").rename(columns={0: \"true_color\", 1: \"response\"})\n",
    "stroop_results.drop(columns=[\"stimulus\", \"letter\"], inplace=True)\n",
    "stroop_results"
   ]
  },
  {
   "cell_type": "code",
   "execution_count": 22,
   "metadata": {},
   "outputs": [
    {
     "data": {
      "text/plain": [
       "0"
      ]
     },
     "execution_count": 22,
     "metadata": {},
     "output_type": "execute_result"
    }
   ],
   "source": [
    "stroop_results.loc[stroop_results.true_color != stroop_results.response, \"correct\"].sum()"
   ]
  },
  {
   "cell_type": "code",
   "execution_count": 23,
   "metadata": {},
   "outputs": [
    {
     "data": {
      "text/plain": [
       "1245"
      ]
     },
     "execution_count": 23,
     "metadata": {},
     "output_type": "execute_result"
    }
   ],
   "source": [
    "stroop_results.loc[stroop_results.true_color == stroop_results.response, \"correct\"].sum()"
   ]
  },
  {
   "cell_type": "code",
   "execution_count": 24,
   "metadata": {},
   "outputs": [
    {
     "data": {
      "text/plain": [
       "1245"
      ]
     },
     "execution_count": 24,
     "metadata": {},
     "output_type": "execute_result"
    }
   ],
   "source": [
    "stroop_results.correct.sum()"
   ]
  },
  {
   "cell_type": "code",
   "execution_count": 25,
   "metadata": {},
   "outputs": [
    {
     "data": {
      "text/html": [
       "<div>\n",
       "<style scoped>\n",
       "    .dataframe tbody tr th:only-of-type {\n",
       "        vertical-align: middle;\n",
       "    }\n",
       "\n",
       "    .dataframe tbody tr th {\n",
       "        vertical-align: top;\n",
       "    }\n",
       "\n",
       "    .dataframe thead th {\n",
       "        text-align: right;\n",
       "    }\n",
       "</style>\n",
       "<table border=\"1\" class=\"dataframe\">\n",
       "  <thead>\n",
       "    <tr style=\"text-align: right;\">\n",
       "      <th></th>\n",
       "      <th></th>\n",
       "      <th>rt</th>\n",
       "      <th>correct</th>\n",
       "    </tr>\n",
       "    <tr>\n",
       "      <th>group</th>\n",
       "      <th>participant_id</th>\n",
       "      <th></th>\n",
       "      <th></th>\n",
       "    </tr>\n",
       "  </thead>\n",
       "  <tbody>\n",
       "    <tr>\n",
       "      <th rowspan=\"8\" valign=\"top\">music</th>\n",
       "      <th>31762cb9-3f06-46f8-a6aa-0cb7e725cba9</th>\n",
       "      <td>829.75000</td>\n",
       "      <td>0.9875</td>\n",
       "    </tr>\n",
       "    <tr>\n",
       "      <th>7f0450b7-99f7-47e9-8895-9011a537396a</th>\n",
       "      <td>1414.62625</td>\n",
       "      <td>0.9500</td>\n",
       "    </tr>\n",
       "    <tr>\n",
       "      <th>8184eb4a-6f2a-435f-99e0-de643d884b97</th>\n",
       "      <td>687.65000</td>\n",
       "      <td>0.9750</td>\n",
       "    </tr>\n",
       "    <tr>\n",
       "      <th>88b5c856-49c7-4113-873d-671c29bff218</th>\n",
       "      <td>873.21375</td>\n",
       "      <td>0.8875</td>\n",
       "    </tr>\n",
       "    <tr>\n",
       "      <th>9547b8d4-5448-4b85-b0da-2c8461c00bcb</th>\n",
       "      <td>716.91000</td>\n",
       "      <td>1.0000</td>\n",
       "    </tr>\n",
       "    <tr>\n",
       "      <th>a4948d9f-faa2-415f-a376-4c3dea9296ce</th>\n",
       "      <td>688.37750</td>\n",
       "      <td>0.9625</td>\n",
       "    </tr>\n",
       "    <tr>\n",
       "      <th>a700e9ac-d53c-4dcd-8ea4-eb6bf58ad454</th>\n",
       "      <td>898.62500</td>\n",
       "      <td>0.9875</td>\n",
       "    </tr>\n",
       "    <tr>\n",
       "      <th>b8143791-ab78-4c4b-bc14-ab3f16549bb5</th>\n",
       "      <td>792.51000</td>\n",
       "      <td>0.9625</td>\n",
       "    </tr>\n",
       "    <tr>\n",
       "      <th rowspan=\"8\" valign=\"top\">silence</th>\n",
       "      <th>21f08148-6cc6-4223-8364-24224a1f1945</th>\n",
       "      <td>1381.95375</td>\n",
       "      <td>1.0000</td>\n",
       "    </tr>\n",
       "    <tr>\n",
       "      <th>3cceca25-8b8b-49ad-b24d-03ed68601439</th>\n",
       "      <td>800.75000</td>\n",
       "      <td>0.9500</td>\n",
       "    </tr>\n",
       "    <tr>\n",
       "      <th>62c8661e-b8e2-48a1-b1a3-4221427237a6</th>\n",
       "      <td>1032.23000</td>\n",
       "      <td>0.9750</td>\n",
       "    </tr>\n",
       "    <tr>\n",
       "      <th>7c732653-87e7-4c4f-8fe7-9fa40975315d</th>\n",
       "      <td>644.61250</td>\n",
       "      <td>0.9500</td>\n",
       "    </tr>\n",
       "    <tr>\n",
       "      <th>97b70c25-77c5-47b7-8a2c-eb59bd2842cc</th>\n",
       "      <td>1016.08750</td>\n",
       "      <td>1.0000</td>\n",
       "    </tr>\n",
       "    <tr>\n",
       "      <th>a0e19014-0ebd-4783-8032-cea5677e4a11</th>\n",
       "      <td>921.95375</td>\n",
       "      <td>0.9875</td>\n",
       "    </tr>\n",
       "    <tr>\n",
       "      <th>b7f6b744-ff66-42a3-b892-4ba6777a970a</th>\n",
       "      <td>686.91000</td>\n",
       "      <td>0.9875</td>\n",
       "    </tr>\n",
       "    <tr>\n",
       "      <th>f7cee892-7665-4c02-8b0e-005e0c255378</th>\n",
       "      <td>642.90000</td>\n",
       "      <td>1.0000</td>\n",
       "    </tr>\n",
       "  </tbody>\n",
       "</table>\n",
       "</div>"
      ],
      "text/plain": [
       "                                                      rt  correct\n",
       "group   participant_id                                           \n",
       "music   31762cb9-3f06-46f8-a6aa-0cb7e725cba9   829.75000   0.9875\n",
       "        7f0450b7-99f7-47e9-8895-9011a537396a  1414.62625   0.9500\n",
       "        8184eb4a-6f2a-435f-99e0-de643d884b97   687.65000   0.9750\n",
       "        88b5c856-49c7-4113-873d-671c29bff218   873.21375   0.8875\n",
       "        9547b8d4-5448-4b85-b0da-2c8461c00bcb   716.91000   1.0000\n",
       "        a4948d9f-faa2-415f-a376-4c3dea9296ce   688.37750   0.9625\n",
       "        a700e9ac-d53c-4dcd-8ea4-eb6bf58ad454   898.62500   0.9875\n",
       "        b8143791-ab78-4c4b-bc14-ab3f16549bb5   792.51000   0.9625\n",
       "silence 21f08148-6cc6-4223-8364-24224a1f1945  1381.95375   1.0000\n",
       "        3cceca25-8b8b-49ad-b24d-03ed68601439   800.75000   0.9500\n",
       "        62c8661e-b8e2-48a1-b1a3-4221427237a6  1032.23000   0.9750\n",
       "        7c732653-87e7-4c4f-8fe7-9fa40975315d   644.61250   0.9500\n",
       "        97b70c25-77c5-47b7-8a2c-eb59bd2842cc  1016.08750   1.0000\n",
       "        a0e19014-0ebd-4783-8032-cea5677e4a11   921.95375   0.9875\n",
       "        b7f6b744-ff66-42a3-b892-4ba6777a970a   686.91000   0.9875\n",
       "        f7cee892-7665-4c02-8b0e-005e0c255378   642.90000   1.0000"
      ]
     },
     "execution_count": 25,
     "metadata": {},
     "output_type": "execute_result"
    }
   ],
   "source": [
    "stroop_results.groupby([\"group\", \"participant_id\"])[[\"rt\", \"correct\"]].mean()"
   ]
  },
  {
   "cell_type": "code",
   "execution_count": 26,
   "metadata": {},
   "outputs": [
    {
     "data": {
      "text/html": [
       "<div>\n",
       "<style scoped>\n",
       "    .dataframe tbody tr th:only-of-type {\n",
       "        vertical-align: middle;\n",
       "    }\n",
       "\n",
       "    .dataframe tbody tr th {\n",
       "        vertical-align: top;\n",
       "    }\n",
       "\n",
       "    .dataframe thead tr th {\n",
       "        text-align: left;\n",
       "    }\n",
       "\n",
       "    .dataframe thead tr:last-of-type th {\n",
       "        text-align: right;\n",
       "    }\n",
       "</style>\n",
       "<table border=\"1\" class=\"dataframe\">\n",
       "  <thead>\n",
       "    <tr>\n",
       "      <th></th>\n",
       "      <th colspan=\"8\" halign=\"left\">rt</th>\n",
       "    </tr>\n",
       "    <tr>\n",
       "      <th></th>\n",
       "      <th>count</th>\n",
       "      <th>mean</th>\n",
       "      <th>std</th>\n",
       "      <th>min</th>\n",
       "      <th>25%</th>\n",
       "      <th>50%</th>\n",
       "      <th>75%</th>\n",
       "      <th>max</th>\n",
       "    </tr>\n",
       "    <tr>\n",
       "      <th>group</th>\n",
       "      <th></th>\n",
       "      <th></th>\n",
       "      <th></th>\n",
       "      <th></th>\n",
       "      <th></th>\n",
       "      <th></th>\n",
       "      <th></th>\n",
       "      <th></th>\n",
       "    </tr>\n",
       "  </thead>\n",
       "  <tbody>\n",
       "    <tr>\n",
       "      <th>music</th>\n",
       "      <td>640.0</td>\n",
       "      <td>862.707812</td>\n",
       "      <td>337.317003</td>\n",
       "      <td>347.7</td>\n",
       "      <td>658.425</td>\n",
       "      <td>772.75</td>\n",
       "      <td>1007.000</td>\n",
       "      <td>3659.5</td>\n",
       "    </tr>\n",
       "    <tr>\n",
       "      <th>silence</th>\n",
       "      <td>640.0</td>\n",
       "      <td>890.924688</td>\n",
       "      <td>422.263237</td>\n",
       "      <td>309.0</td>\n",
       "      <td>636.925</td>\n",
       "      <td>766.85</td>\n",
       "      <td>996.275</td>\n",
       "      <td>4018.0</td>\n",
       "    </tr>\n",
       "  </tbody>\n",
       "</table>\n",
       "</div>"
      ],
      "text/plain": [
       "            rt                                                            \\\n",
       "         count        mean         std    min      25%     50%       75%   \n",
       "group                                                                      \n",
       "music    640.0  862.707812  337.317003  347.7  658.425  772.75  1007.000   \n",
       "silence  640.0  890.924688  422.263237  309.0  636.925  766.85   996.275   \n",
       "\n",
       "                 \n",
       "            max  \n",
       "group            \n",
       "music    3659.5  \n",
       "silence  4018.0  "
      ]
     },
     "execution_count": 26,
     "metadata": {},
     "output_type": "execute_result"
    }
   ],
   "source": [
    "stroop_results.groupby([\"group\"])[[\"rt\", \"correct\"]].describe()"
   ]
  },
  {
   "attachments": {},
   "cell_type": "markdown",
   "metadata": {},
   "source": [
    "## Analyzing digit span task results"
   ]
  },
  {
   "cell_type": "code",
   "execution_count": 47,
   "metadata": {},
   "outputs": [
    {
     "data": {
      "text/html": [
       "<div>\n",
       "<style scoped>\n",
       "    .dataframe tbody tr th:only-of-type {\n",
       "        vertical-align: middle;\n",
       "    }\n",
       "\n",
       "    .dataframe tbody tr th {\n",
       "        vertical-align: top;\n",
       "    }\n",
       "\n",
       "    .dataframe thead th {\n",
       "        text-align: right;\n",
       "    }\n",
       "</style>\n",
       "<table border=\"1\" class=\"dataframe\">\n",
       "  <thead>\n",
       "    <tr style=\"text-align: right;\">\n",
       "      <th></th>\n",
       "      <th>rt</th>\n",
       "      <th>recall</th>\n",
       "      <th>stimuli</th>\n",
       "      <th>accuracy</th>\n",
       "      <th>trial_type</th>\n",
       "      <th>trial_index</th>\n",
       "      <th>time_elapsed</th>\n",
       "      <th>internal_node_id</th>\n",
       "      <th>participant_id</th>\n",
       "      <th>group</th>\n",
       "    </tr>\n",
       "  </thead>\n",
       "  <tbody>\n",
       "    <tr>\n",
       "      <th>0</th>\n",
       "      <td>4606</td>\n",
       "      <td>0,7,3</td>\n",
       "      <td>0,7,3</td>\n",
       "      <td>1</td>\n",
       "      <td>digit-span-recall</td>\n",
       "      <td>5</td>\n",
       "      <td>21230</td>\n",
       "      <td>0.0-2.0-1.0</td>\n",
       "      <td>31762cb9-3f06-46f8-a6aa-0cb7e725cba9</td>\n",
       "      <td>music</td>\n",
       "    </tr>\n",
       "    <tr>\n",
       "      <th>1</th>\n",
       "      <td>2173</td>\n",
       "      <td>3,2,9,0</td>\n",
       "      <td>3,2,9,0</td>\n",
       "      <td>1</td>\n",
       "      <td>digit-span-recall</td>\n",
       "      <td>11</td>\n",
       "      <td>28462</td>\n",
       "      <td>0.0-2.0-1.1</td>\n",
       "      <td>31762cb9-3f06-46f8-a6aa-0cb7e725cba9</td>\n",
       "      <td>music</td>\n",
       "    </tr>\n",
       "    <tr>\n",
       "      <th>2</th>\n",
       "      <td>3313</td>\n",
       "      <td>2,0,9,8,3</td>\n",
       "      <td>2,0,9,3,8</td>\n",
       "      <td>0</td>\n",
       "      <td>digit-span-recall</td>\n",
       "      <td>18</td>\n",
       "      <td>37854</td>\n",
       "      <td>0.0-2.0-1.2</td>\n",
       "      <td>31762cb9-3f06-46f8-a6aa-0cb7e725cba9</td>\n",
       "      <td>music</td>\n",
       "    </tr>\n",
       "    <tr>\n",
       "      <th>3</th>\n",
       "      <td>3887</td>\n",
       "      <td>2,3,0</td>\n",
       "      <td>2,3,0</td>\n",
       "      <td>1</td>\n",
       "      <td>digit-span-recall</td>\n",
       "      <td>24</td>\n",
       "      <td>53637</td>\n",
       "      <td>0.0-4.0-1.0</td>\n",
       "      <td>31762cb9-3f06-46f8-a6aa-0cb7e725cba9</td>\n",
       "      <td>music</td>\n",
       "    </tr>\n",
       "    <tr>\n",
       "      <th>4</th>\n",
       "      <td>3200</td>\n",
       "      <td>3,4,9,7</td>\n",
       "      <td>3,4,9,7</td>\n",
       "      <td>1</td>\n",
       "      <td>digit-span-recall</td>\n",
       "      <td>30</td>\n",
       "      <td>61917</td>\n",
       "      <td>0.0-4.0-1.1</td>\n",
       "      <td>31762cb9-3f06-46f8-a6aa-0cb7e725cba9</td>\n",
       "      <td>music</td>\n",
       "    </tr>\n",
       "    <tr>\n",
       "      <th>...</th>\n",
       "      <td>...</td>\n",
       "      <td>...</td>\n",
       "      <td>...</td>\n",
       "      <td>...</td>\n",
       "      <td>...</td>\n",
       "      <td>...</td>\n",
       "      <td>...</td>\n",
       "      <td>...</td>\n",
       "      <td>...</td>\n",
       "      <td>...</td>\n",
       "    </tr>\n",
       "    <tr>\n",
       "      <th>12</th>\n",
       "      <td>11484</td>\n",
       "      <td>6,5,2,8,9,0,3</td>\n",
       "      <td>6,5,2,8,9,0,3</td>\n",
       "      <td>1</td>\n",
       "      <td>digit-span-recall</td>\n",
       "      <td>103</td>\n",
       "      <td>232548</td>\n",
       "      <td>0.0-4.0-1.9</td>\n",
       "      <td>f7cee892-7665-4c02-8b0e-005e0c255378</td>\n",
       "      <td>silence</td>\n",
       "    </tr>\n",
       "    <tr>\n",
       "      <th>13</th>\n",
       "      <td>16100</td>\n",
       "      <td>6,5,3,9,4,8,2</td>\n",
       "      <td>5,9,3,2,6,4,8,0</td>\n",
       "      <td>0</td>\n",
       "      <td>digit-span-recall</td>\n",
       "      <td>113</td>\n",
       "      <td>257675</td>\n",
       "      <td>0.0-4.0-1.10</td>\n",
       "      <td>f7cee892-7665-4c02-8b0e-005e0c255378</td>\n",
       "      <td>silence</td>\n",
       "    </tr>\n",
       "    <tr>\n",
       "      <th>14</th>\n",
       "      <td>9110</td>\n",
       "      <td>0,7,4,6,9,5,8,1</td>\n",
       "      <td>0,7,4,6,9,5,1,8</td>\n",
       "      <td>0</td>\n",
       "      <td>digit-span-recall</td>\n",
       "      <td>123</td>\n",
       "      <td>275813</td>\n",
       "      <td>0.0-4.0-1.11</td>\n",
       "      <td>f7cee892-7665-4c02-8b0e-005e0c255378</td>\n",
       "      <td>silence</td>\n",
       "    </tr>\n",
       "    <tr>\n",
       "      <th>15</th>\n",
       "      <td>6025</td>\n",
       "      <td>5,8,6,4,3,1,9</td>\n",
       "      <td>5,8,6,4,3,1,9</td>\n",
       "      <td>1</td>\n",
       "      <td>digit-span-recall</td>\n",
       "      <td>132</td>\n",
       "      <td>289864</td>\n",
       "      <td>0.0-4.0-1.12</td>\n",
       "      <td>f7cee892-7665-4c02-8b0e-005e0c255378</td>\n",
       "      <td>silence</td>\n",
       "    </tr>\n",
       "    <tr>\n",
       "      <th>16</th>\n",
       "      <td>12662</td>\n",
       "      <td>2,4,6,8,9,7,3,5</td>\n",
       "      <td>2,4,8,6,9,7,3,5</td>\n",
       "      <td>0</td>\n",
       "      <td>digit-span-recall</td>\n",
       "      <td>142</td>\n",
       "      <td>311553</td>\n",
       "      <td>0.0-4.0-1.13</td>\n",
       "      <td>f7cee892-7665-4c02-8b0e-005e0c255378</td>\n",
       "      <td>silence</td>\n",
       "    </tr>\n",
       "  </tbody>\n",
       "</table>\n",
       "<p>272 rows × 10 columns</p>\n",
       "</div>"
      ],
      "text/plain": [
       "       rt           recall          stimuli  accuracy         trial_type  \\\n",
       "0    4606            0,7,3            0,7,3         1  digit-span-recall   \n",
       "1    2173          3,2,9,0          3,2,9,0         1  digit-span-recall   \n",
       "2    3313        2,0,9,8,3        2,0,9,3,8         0  digit-span-recall   \n",
       "3    3887            2,3,0            2,3,0         1  digit-span-recall   \n",
       "4    3200          3,4,9,7          3,4,9,7         1  digit-span-recall   \n",
       "..    ...              ...              ...       ...                ...   \n",
       "12  11484    6,5,2,8,9,0,3    6,5,2,8,9,0,3         1  digit-span-recall   \n",
       "13  16100    6,5,3,9,4,8,2  5,9,3,2,6,4,8,0         0  digit-span-recall   \n",
       "14   9110  0,7,4,6,9,5,8,1  0,7,4,6,9,5,1,8         0  digit-span-recall   \n",
       "15   6025    5,8,6,4,3,1,9    5,8,6,4,3,1,9         1  digit-span-recall   \n",
       "16  12662  2,4,6,8,9,7,3,5  2,4,8,6,9,7,3,5         0  digit-span-recall   \n",
       "\n",
       "    trial_index  time_elapsed internal_node_id  \\\n",
       "0             5         21230      0.0-2.0-1.0   \n",
       "1            11         28462      0.0-2.0-1.1   \n",
       "2            18         37854      0.0-2.0-1.2   \n",
       "3            24         53637      0.0-4.0-1.0   \n",
       "4            30         61917      0.0-4.0-1.1   \n",
       "..          ...           ...              ...   \n",
       "12          103        232548      0.0-4.0-1.9   \n",
       "13          113        257675     0.0-4.0-1.10   \n",
       "14          123        275813     0.0-4.0-1.11   \n",
       "15          132        289864     0.0-4.0-1.12   \n",
       "16          142        311553     0.0-4.0-1.13   \n",
       "\n",
       "                          participant_id    group  \n",
       "0   31762cb9-3f06-46f8-a6aa-0cb7e725cba9    music  \n",
       "1   31762cb9-3f06-46f8-a6aa-0cb7e725cba9    music  \n",
       "2   31762cb9-3f06-46f8-a6aa-0cb7e725cba9    music  \n",
       "3   31762cb9-3f06-46f8-a6aa-0cb7e725cba9    music  \n",
       "4   31762cb9-3f06-46f8-a6aa-0cb7e725cba9    music  \n",
       "..                                   ...      ...  \n",
       "12  f7cee892-7665-4c02-8b0e-005e0c255378  silence  \n",
       "13  f7cee892-7665-4c02-8b0e-005e0c255378  silence  \n",
       "14  f7cee892-7665-4c02-8b0e-005e0c255378  silence  \n",
       "15  f7cee892-7665-4c02-8b0e-005e0c255378  silence  \n",
       "16  f7cee892-7665-4c02-8b0e-005e0c255378  silence  \n",
       "\n",
       "[272 rows x 10 columns]"
      ]
     },
     "execution_count": 47,
     "metadata": {},
     "output_type": "execute_result"
    }
   ],
   "source": [
    "digit_span_results = task_result_dfs[\"digit_span\"].copy()\n",
    "digit_span_results"
   ]
  },
  {
   "cell_type": "code",
   "execution_count": 48,
   "metadata": {},
   "outputs": [
    {
     "data": {
      "text/plain": [
       "1    161\n",
       "0    111\n",
       "Name: accuracy, dtype: int64"
      ]
     },
     "execution_count": 48,
     "metadata": {},
     "output_type": "execute_result"
    }
   ],
   "source": [
    "digit_span_results.accuracy.value_counts()"
   ]
  },
  {
   "cell_type": "code",
   "execution_count": 49,
   "metadata": {},
   "outputs": [],
   "source": [
    "digit_span_results[\"correct\"] = digit_span_results.accuracy == 1\n",
    "digit_span_results.drop(columns=[\"accuracy\", \"internal_node_id\"], inplace=True)"
   ]
  },
  {
   "cell_type": "code",
   "execution_count": 52,
   "metadata": {},
   "outputs": [
    {
     "data": {
      "text/plain": [
       "0.5919117647058824"
      ]
     },
     "execution_count": 52,
     "metadata": {},
     "output_type": "execute_result"
    }
   ],
   "source": [
    "digit_span_results.correct.sum() / len(digit_span_results)"
   ]
  },
  {
   "cell_type": "code",
   "execution_count": 53,
   "metadata": {},
   "outputs": [
    {
     "data": {
      "text/html": [
       "<div>\n",
       "<style scoped>\n",
       "    .dataframe tbody tr th:only-of-type {\n",
       "        vertical-align: middle;\n",
       "    }\n",
       "\n",
       "    .dataframe tbody tr th {\n",
       "        vertical-align: top;\n",
       "    }\n",
       "\n",
       "    .dataframe thead th {\n",
       "        text-align: right;\n",
       "    }\n",
       "</style>\n",
       "<table border=\"1\" class=\"dataframe\">\n",
       "  <thead>\n",
       "    <tr style=\"text-align: right;\">\n",
       "      <th></th>\n",
       "      <th></th>\n",
       "      <th>rt</th>\n",
       "      <th>correct</th>\n",
       "    </tr>\n",
       "    <tr>\n",
       "      <th>group</th>\n",
       "      <th>participant_id</th>\n",
       "      <th></th>\n",
       "      <th></th>\n",
       "    </tr>\n",
       "  </thead>\n",
       "  <tbody>\n",
       "    <tr>\n",
       "      <th rowspan=\"8\" valign=\"top\">music</th>\n",
       "      <th>31762cb9-3f06-46f8-a6aa-0cb7e725cba9</th>\n",
       "      <td>4292.000000</td>\n",
       "      <td>0.647059</td>\n",
       "    </tr>\n",
       "    <tr>\n",
       "      <th>7f0450b7-99f7-47e9-8895-9011a537396a</th>\n",
       "      <td>12258.058824</td>\n",
       "      <td>0.529412</td>\n",
       "    </tr>\n",
       "    <tr>\n",
       "      <th>8184eb4a-6f2a-435f-99e0-de643d884b97</th>\n",
       "      <td>5197.764706</td>\n",
       "      <td>0.647059</td>\n",
       "    </tr>\n",
       "    <tr>\n",
       "      <th>88b5c856-49c7-4113-873d-671c29bff218</th>\n",
       "      <td>5627.117647</td>\n",
       "      <td>0.470588</td>\n",
       "    </tr>\n",
       "    <tr>\n",
       "      <th>9547b8d4-5448-4b85-b0da-2c8461c00bcb</th>\n",
       "      <td>4353.529412</td>\n",
       "      <td>0.647059</td>\n",
       "    </tr>\n",
       "    <tr>\n",
       "      <th>a4948d9f-faa2-415f-a376-4c3dea9296ce</th>\n",
       "      <td>8219.588235</td>\n",
       "      <td>0.705882</td>\n",
       "    </tr>\n",
       "    <tr>\n",
       "      <th>a700e9ac-d53c-4dcd-8ea4-eb6bf58ad454</th>\n",
       "      <td>7235.058824</td>\n",
       "      <td>0.529412</td>\n",
       "    </tr>\n",
       "    <tr>\n",
       "      <th>b8143791-ab78-4c4b-bc14-ab3f16549bb5</th>\n",
       "      <td>5286.294118</td>\n",
       "      <td>0.647059</td>\n",
       "    </tr>\n",
       "    <tr>\n",
       "      <th rowspan=\"8\" valign=\"top\">silence</th>\n",
       "      <th>21f08148-6cc6-4223-8364-24224a1f1945</th>\n",
       "      <td>7106.352941</td>\n",
       "      <td>0.647059</td>\n",
       "    </tr>\n",
       "    <tr>\n",
       "      <th>3cceca25-8b8b-49ad-b24d-03ed68601439</th>\n",
       "      <td>9103.941176</td>\n",
       "      <td>0.588235</td>\n",
       "    </tr>\n",
       "    <tr>\n",
       "      <th>62c8661e-b8e2-48a1-b1a3-4221427237a6</th>\n",
       "      <td>6843.000000</td>\n",
       "      <td>0.470588</td>\n",
       "    </tr>\n",
       "    <tr>\n",
       "      <th>7c732653-87e7-4c4f-8fe7-9fa40975315d</th>\n",
       "      <td>6503.176471</td>\n",
       "      <td>0.647059</td>\n",
       "    </tr>\n",
       "    <tr>\n",
       "      <th>97b70c25-77c5-47b7-8a2c-eb59bd2842cc</th>\n",
       "      <td>5633.529412</td>\n",
       "      <td>0.529412</td>\n",
       "    </tr>\n",
       "    <tr>\n",
       "      <th>a0e19014-0ebd-4783-8032-cea5677e4a11</th>\n",
       "      <td>7571.882353</td>\n",
       "      <td>0.588235</td>\n",
       "    </tr>\n",
       "    <tr>\n",
       "      <th>b7f6b744-ff66-42a3-b892-4ba6777a970a</th>\n",
       "      <td>4281.882353</td>\n",
       "      <td>0.588235</td>\n",
       "    </tr>\n",
       "    <tr>\n",
       "      <th>f7cee892-7665-4c02-8b0e-005e0c255378</th>\n",
       "      <td>8683.882353</td>\n",
       "      <td>0.588235</td>\n",
       "    </tr>\n",
       "  </tbody>\n",
       "</table>\n",
       "</div>"
      ],
      "text/plain": [
       "                                                        rt   correct\n",
       "group   participant_id                                              \n",
       "music   31762cb9-3f06-46f8-a6aa-0cb7e725cba9   4292.000000  0.647059\n",
       "        7f0450b7-99f7-47e9-8895-9011a537396a  12258.058824  0.529412\n",
       "        8184eb4a-6f2a-435f-99e0-de643d884b97   5197.764706  0.647059\n",
       "        88b5c856-49c7-4113-873d-671c29bff218   5627.117647  0.470588\n",
       "        9547b8d4-5448-4b85-b0da-2c8461c00bcb   4353.529412  0.647059\n",
       "        a4948d9f-faa2-415f-a376-4c3dea9296ce   8219.588235  0.705882\n",
       "        a700e9ac-d53c-4dcd-8ea4-eb6bf58ad454   7235.058824  0.529412\n",
       "        b8143791-ab78-4c4b-bc14-ab3f16549bb5   5286.294118  0.647059\n",
       "silence 21f08148-6cc6-4223-8364-24224a1f1945   7106.352941  0.647059\n",
       "        3cceca25-8b8b-49ad-b24d-03ed68601439   9103.941176  0.588235\n",
       "        62c8661e-b8e2-48a1-b1a3-4221427237a6   6843.000000  0.470588\n",
       "        7c732653-87e7-4c4f-8fe7-9fa40975315d   6503.176471  0.647059\n",
       "        97b70c25-77c5-47b7-8a2c-eb59bd2842cc   5633.529412  0.529412\n",
       "        a0e19014-0ebd-4783-8032-cea5677e4a11   7571.882353  0.588235\n",
       "        b7f6b744-ff66-42a3-b892-4ba6777a970a   4281.882353  0.588235\n",
       "        f7cee892-7665-4c02-8b0e-005e0c255378   8683.882353  0.588235"
      ]
     },
     "execution_count": 53,
     "metadata": {},
     "output_type": "execute_result"
    }
   ],
   "source": [
    "digit_span_results.groupby([\"group\", \"participant_id\"])[[\"rt\", \"correct\"]].mean()"
   ]
  },
  {
   "cell_type": "code",
   "execution_count": 55,
   "metadata": {},
   "outputs": [
    {
     "data": {
      "text/html": [
       "<div>\n",
       "<style scoped>\n",
       "    .dataframe tbody tr th:only-of-type {\n",
       "        vertical-align: middle;\n",
       "    }\n",
       "\n",
       "    .dataframe tbody tr th {\n",
       "        vertical-align: top;\n",
       "    }\n",
       "\n",
       "    .dataframe thead th {\n",
       "        text-align: right;\n",
       "    }\n",
       "</style>\n",
       "<table border=\"1\" class=\"dataframe\">\n",
       "  <thead>\n",
       "    <tr style=\"text-align: right;\">\n",
       "      <th></th>\n",
       "      <th>count</th>\n",
       "      <th>mean</th>\n",
       "      <th>std</th>\n",
       "      <th>min</th>\n",
       "      <th>25%</th>\n",
       "      <th>50%</th>\n",
       "      <th>75%</th>\n",
       "      <th>max</th>\n",
       "    </tr>\n",
       "    <tr>\n",
       "      <th>group</th>\n",
       "      <th></th>\n",
       "      <th></th>\n",
       "      <th></th>\n",
       "      <th></th>\n",
       "      <th></th>\n",
       "      <th></th>\n",
       "      <th></th>\n",
       "      <th></th>\n",
       "    </tr>\n",
       "  </thead>\n",
       "  <tbody>\n",
       "    <tr>\n",
       "      <th>music</th>\n",
       "      <td>136.0</td>\n",
       "      <td>6558.676471</td>\n",
       "      <td>7868.300954</td>\n",
       "      <td>696.0</td>\n",
       "      <td>3891.50</td>\n",
       "      <td>5511.5</td>\n",
       "      <td>7695.25</td>\n",
       "      <td>91447.0</td>\n",
       "    </tr>\n",
       "    <tr>\n",
       "      <th>silence</th>\n",
       "      <td>136.0</td>\n",
       "      <td>6965.955882</td>\n",
       "      <td>3013.944259</td>\n",
       "      <td>2094.0</td>\n",
       "      <td>4598.25</td>\n",
       "      <td>6361.0</td>\n",
       "      <td>8664.75</td>\n",
       "      <td>16100.0</td>\n",
       "    </tr>\n",
       "  </tbody>\n",
       "</table>\n",
       "</div>"
      ],
      "text/plain": [
       "         count         mean          std     min      25%     50%      75%  \\\n",
       "group                                                                        \n",
       "music    136.0  6558.676471  7868.300954   696.0  3891.50  5511.5  7695.25   \n",
       "silence  136.0  6965.955882  3013.944259  2094.0  4598.25  6361.0  8664.75   \n",
       "\n",
       "             max  \n",
       "group             \n",
       "music    91447.0  \n",
       "silence  16100.0  "
      ]
     },
     "execution_count": 55,
     "metadata": {},
     "output_type": "execute_result"
    }
   ],
   "source": [
    "digit_span_results.groupby([\"group\"]).rt.describe()"
   ]
  },
  {
   "cell_type": "code",
   "execution_count": 57,
   "metadata": {},
   "outputs": [
    {
     "data": {
      "text/plain": [
       "group\n",
       "music      0.602941\n",
       "silence    0.580882\n",
       "Name: correct, dtype: float64"
      ]
     },
     "execution_count": 57,
     "metadata": {},
     "output_type": "execute_result"
    }
   ],
   "source": [
    "digit_span_results.groupby([\"group\"]).correct.sum() / digit_span_results.groupby([\"group\"]).correct.count()"
   ]
  },
  {
   "attachments": {},
   "cell_type": "markdown",
   "metadata": {},
   "source": [
    "### Analyze results by sequence length"
   ]
  },
  {
   "attachments": {},
   "cell_type": "markdown",
   "metadata": {},
   "source": [
    "TODO"
   ]
  },
  {
   "cell_type": "markdown",
   "metadata": {},
   "source": []
  }
 ],
 "metadata": {
  "kernelspec": {
   "display_name": "base",
   "language": "python",
   "name": "python3"
  },
  "language_info": {
   "codemirror_mode": {
    "name": "ipython",
    "version": 3
   },
   "file_extension": ".py",
   "mimetype": "text/x-python",
   "name": "python",
   "nbconvert_exporter": "python",
   "pygments_lexer": "ipython3",
   "version": "3.9.12"
  },
  "orig_nbformat": 4,
  "vscode": {
   "interpreter": {
    "hash": "28fe809b71d71d817b30849dbe0cd24ade9f2bc94427d4e465a16349ca1bd851"
   }
  }
 },
 "nbformat": 4,
 "nbformat_minor": 2
}
